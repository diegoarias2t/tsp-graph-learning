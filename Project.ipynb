{
 "cells": [
  {
   "cell_type": "code",
   "execution_count": 237,
   "id": "2ea31c24-4619-40bc-81c7-148693410cd4",
   "metadata": {},
   "outputs": [],
   "source": [
    "import os\n",
    "import networkx as nx\n",
    "import matplotlib.pyplot as plt\n",
    "import numpy as np\n",
    "import pandas as pd\n",
    "from tqdm import tqdm\n",
    "import random\n",
    "from random import randint\n",
    "from IPython.display import Image\n",
    "from sklearn.metrics import mean_absolute_error\n",
    "from abc import ABC\n",
    "from abc import abstractmethod\n",
    "import progressbar\n",
    "import math\n",
    "from math import *\n",
    "from random import seed\n",
    "from random import random\n",
    "import itertools \n",
    "from itertools import permutations"
   ]
  },
  {
   "cell_type": "code",
   "execution_count": 238,
   "id": "e608ba10-a35b-4458-9d14-7abb3cf3b602",
   "metadata": {},
   "outputs": [],
   "source": [
    "%matplotlib inline"
   ]
  },
  {
   "cell_type": "markdown",
   "id": "ff165b2a-b27a-40dd-813f-a916f4e15ac9",
   "metadata": {},
   "source": [
    "## ■ Question 2"
   ]
  },
  {
   "cell_type": "markdown",
   "id": "9eff8719-2ed6-49c7-b5e3-eb14a24e77c9",
   "metadata": {},
   "source": [
    "Lets use three networks from the FB100: Caltech (with 762 nodes in the LCC), MIT\n",
    "(which has 6402 nodes in the LCC), and Johns Hopkins (which has 5157 nodes in\n",
    "the LCC)."
   ]
  },
  {
   "cell_type": "markdown",
   "id": "9b1932c1-0997-4baa-bf5f-abfa3ab8c83e",
   "metadata": {},
   "source": [
    "Importing all the graphs:"
   ]
  },
  {
   "cell_type": "code",
   "execution_count": 2,
   "id": "ad1a589c-e843-4337-a170-f318657e3477",
   "metadata": {},
   "outputs": [
    {
     "name": "stdout",
     "output_type": "stream",
     "text": [
      "[ 0 ] American75.graphml graph successfully imported.\n",
      "[ 1 ] Amherst41.graphml graph successfully imported.\n",
      "[ 2 ] Auburn71.graphml graph successfully imported.\n",
      "[ 3 ] Baylor93.graphml graph successfully imported.\n",
      "[ 4 ] BC17.graphml graph successfully imported.\n",
      "[ 5 ] Berkeley13.graphml graph successfully imported.\n",
      "[ 6 ] Bingham82.graphml graph successfully imported.\n",
      "[ 7 ] Bowdoin47.graphml graph successfully imported.\n",
      "[ 8 ] Brandeis99.graphml graph successfully imported.\n",
      "[ 9 ] Brown11.graphml graph successfully imported.\n",
      "[ 10 ] BU10.graphml graph successfully imported.\n",
      "[ 11 ] Bucknell39.graphml graph successfully imported.\n",
      "[ 12 ] Cal65.graphml graph successfully imported.\n",
      "[ 13 ] Caltech36.graphml graph successfully imported.\n",
      "[ 14 ] Carnegie49.graphml graph successfully imported.\n",
      "[ 15 ] Colgate88.graphml graph successfully imported.\n",
      "[ 16 ] Columbia2.graphml graph successfully imported.\n",
      "[ 17 ] Cornell5.graphml graph successfully imported.\n",
      "[ 18 ] Dartmouth6.graphml graph successfully imported.\n",
      "[ 19 ] Duke14.graphml graph successfully imported.\n",
      "[ 20 ] Emory27.graphml graph successfully imported.\n",
      "[ 21 ] FSU53.graphml graph successfully imported.\n",
      "[ 22 ] Georgetown15.graphml graph successfully imported.\n",
      "[ 23 ] GWU54.graphml graph successfully imported.\n",
      "[ 24 ] Hamilton46.graphml graph successfully imported.\n",
      "[ 25 ] Harvard1.graphml graph successfully imported.\n",
      "[ 26 ] Haverford76.graphml graph successfully imported.\n",
      "[ 27 ] Howard90.graphml graph successfully imported.\n",
      "[ 28 ] Indiana69.graphml graph successfully imported.\n",
      "[ 29 ] JMU79.graphml graph successfully imported.\n",
      "[ 30 ] Johns Hopkins55.graphml graph successfully imported.\n",
      "[ 31 ] Lehigh96.graphml graph successfully imported.\n",
      "[ 32 ] Maine59.graphml graph successfully imported.\n",
      "[ 33 ] Maryland58.graphml graph successfully imported.\n",
      "[ 34 ] Mich67.graphml graph successfully imported.\n",
      "[ 35 ] Michigan23.graphml graph successfully imported.\n",
      "[ 36 ] Middlebury45.graphml graph successfully imported.\n",
      "[ 37 ] Mississippi66.graphml graph successfully imported.\n",
      "[ 38 ] MIT8.graphml graph successfully imported.\n",
      "[ 39 ] MSU24.graphml graph successfully imported.\n",
      "[ 40 ] MU78.graphml graph successfully imported.\n",
      "[ 41 ] Northeastern19.graphml graph successfully imported.\n",
      "[ 42 ] Northwestern25.graphml graph successfully imported.\n",
      "[ 43 ] Notre Dame57.graphml graph successfully imported.\n",
      "[ 44 ] NYU9.graphml graph successfully imported.\n",
      "[ 45 ] Oberlin44.graphml graph successfully imported.\n",
      "[ 46 ] Oklahoma97.graphml graph successfully imported.\n",
      "[ 47 ] Penn94.graphml graph successfully imported.\n",
      "[ 48 ] Pepperdine86.graphml graph successfully imported.\n",
      "[ 49 ] Princeton12.graphml graph successfully imported.\n",
      "[ 50 ] Reed98.graphml graph successfully imported.\n",
      "[ 51 ] Rice31.graphml graph successfully imported.\n",
      "[ 52 ] Rochester38.graphml graph successfully imported.\n",
      "[ 53 ] Rutgers89.graphml graph successfully imported.\n",
      "[ 54 ] Santa74.graphml graph successfully imported.\n",
      "[ 55 ] Simmons81.graphml graph successfully imported.\n",
      "[ 56 ] Smith60.graphml graph successfully imported.\n",
      "[ 57 ] Stanford3.graphml graph successfully imported.\n",
      "[ 58 ] Swarthmore42.graphml graph successfully imported.\n",
      "[ 59 ] Syracuse56.graphml graph successfully imported.\n",
      "[ 60 ] Temple83.graphml graph successfully imported.\n",
      "[ 61 ] Tennessee95.graphml graph successfully imported.\n",
      "[ 62 ] Texas80.graphml graph successfully imported.\n",
      "[ 63 ] Texas84.graphml graph successfully imported.\n",
      "[ 64 ] Trinity100.graphml graph successfully imported.\n",
      "[ 65 ] Tufts18.graphml graph successfully imported.\n",
      "[ 66 ] Tulane29.graphml graph successfully imported.\n",
      "[ 67 ] UC33.graphml graph successfully imported.\n",
      "[ 68 ] UC61.graphml graph successfully imported.\n",
      "[ 69 ] UC64.graphml graph successfully imported.\n",
      "[ 70 ] UCF52.graphml graph successfully imported.\n",
      "[ 71 ] UChicago30.graphml graph successfully imported.\n",
      "[ 72 ] UCLA26.graphml graph successfully imported.\n",
      "[ 73 ] UConn91.graphml graph successfully imported.\n",
      "[ 74 ] UCSB37.graphml graph successfully imported.\n",
      "[ 75 ] UCSC68.graphml graph successfully imported.\n",
      "[ 76 ] UCSD34.graphml graph successfully imported.\n",
      "[ 77 ] UF21.graphml graph successfully imported.\n",
      "[ 78 ] UGA50.graphml graph successfully imported.\n",
      "[ 79 ] UIllinois20.graphml graph successfully imported.\n",
      "[ 80 ] UMass92.graphml graph successfully imported.\n",
      "[ 81 ] UNC28.graphml graph successfully imported.\n",
      "[ 82 ] UPenn7.graphml graph successfully imported.\n",
      "[ 83 ] USC35.graphml graph successfully imported.\n",
      "[ 84 ] USF51.graphml graph successfully imported.\n",
      "[ 85 ] USFCA72.graphml graph successfully imported.\n",
      "[ 86 ] UVA16.graphml graph successfully imported.\n",
      "[ 87 ] Vanderbilt48.graphml graph successfully imported.\n",
      "[ 88 ] Vassar85.graphml graph successfully imported.\n",
      "[ 89 ] Vermont70.graphml graph successfully imported.\n",
      "[ 90 ] Villanova62.graphml graph successfully imported.\n",
      "[ 91 ] Virginia63.graphml graph successfully imported.\n",
      "[ 92 ] Wake73.graphml graph successfully imported.\n",
      "[ 93 ] WashU32.graphml graph successfully imported.\n",
      "[ 94 ] Wellesley22.graphml graph successfully imported.\n",
      "[ 95 ] Wesleyan43.graphml graph successfully imported.\n",
      "[ 96 ] William77.graphml graph successfully imported.\n",
      "[ 97 ] Williams40.graphml graph successfully imported.\n",
      "[ 98 ] Wisconsin87.graphml graph successfully imported.\n",
      "[ 99 ] Yale4.graphml graph successfully imported.\n"
     ]
    }
   ],
   "source": [
    "import glob\n",
    "import os\n",
    "\n",
    "file_list = glob.glob(os.path.join(os.getcwd(), \"../../Data/Project/fb100/\", \"*.graphml\"))\n",
    "Graphs = []\n",
    "\n",
    "for file in file_list:\n",
    "    Graphs.append(nx.read_graphml(file))\n",
    "    print(\"[\",file_list.index(file),\"]\",file[184:], \"graph successfully imported.\")"
   ]
  },
  {
   "cell_type": "code",
   "execution_count": 3,
   "id": "7f1ef76c-bf69-44e8-be67-5fe21f9af642",
   "metadata": {},
   "outputs": [],
   "source": [
    "GraphCaltech = Graphs[13]\n",
    "GraphMIT = Graphs[38]\n",
    "GraphJohns = Graphs[30]"
   ]
  },
  {
   "cell_type": "markdown",
   "id": "a3277cfd-0c75-47ae-bd04-729ca1f5de31",
   "metadata": {},
   "source": [
    "or manually:"
   ]
  },
  {
   "cell_type": "code",
   "execution_count": null,
   "id": "6b23c5b9-3ed5-4cc4-b10a-4750f29ba7c7",
   "metadata": {},
   "outputs": [],
   "source": [
    "GraphCaltech = nx.read_graphml('../../Data/Project/fb100/Caltech36.graphml')\n",
    "GraphMIT = nx.read_graphml('../../Data/Project/fb100/MIT8.graphml')\n",
    "GraphJohns = nx.read_graphml('../../Data/Project/fb100/Johns Hopkins55.graphml')"
   ]
  },
  {
   "cell_type": "markdown",
   "id": "662d7972-5ebb-4d1d-8f6c-910de1350e33",
   "metadata": {},
   "source": [
    "#### a) Degree distribution"
   ]
  },
  {
   "cell_type": "code",
   "execution_count": 4,
   "id": "21e4076e-68e6-43be-a4b3-1bc3742328df",
   "metadata": {},
   "outputs": [
    {
     "data": {
      "image/png": "[encoded data removed]",
      "text/plain": [
       "<Figure size 432x288 with 1 Axes>"
      ]
     },
     "metadata": {
      "needs_background": "light"
     },
     "output_type": "display_data"
    },
    {
     "data": {
      "image/png": "[encoded data removed]",
      "text/plain": [
       "<Figure size 432x288 with 1 Axes>"
      ]
     },
     "metadata": {
      "needs_background": "light"
     },
     "output_type": "display_data"
    },
    {
     "data": {
      "image/png": "[encoded data removed]",
      "text/plain": [
       "<Figure size 432x288 with 1 Axes>"
      ]
     },
     "metadata": {
      "needs_background": "light"
     },
     "output_type": "display_data"
    }
   ],
   "source": [
    "def plot_degree_dist(G):\n",
    "    degrees = [G.degree(n) for n in G.nodes()]\n",
    "    plt.hist(degrees, color='#ff4447')\n",
    "    plt.show()\n",
    "\n",
    "plot_degree_dist(GraphCaltech)\n",
    "plot_degree_dist(GraphMIT)\n",
    "plot_degree_dist(GraphJohns)"
   ]
  },
  {
   "cell_type": "markdown",
   "id": "1fe5c289-5068-4f1c-8f9b-78afda2cf45f",
   "metadata": {},
   "source": [
    "#### b) Global clustering coeficient, mean local clustering coeficient and edge density"
   ]
  },
  {
   "cell_type": "markdown",
   "id": "37650528-881c-4d80-b198-b9f96a9aa07f",
   "metadata": {},
   "source": [
    "##### Global Clustering"
   ]
  },
  {
   "cell_type": "code",
   "execution_count": 5,
   "id": "d0226390-ab88-44a1-9cd9-8dc59ecf1dc9",
   "metadata": {},
   "outputs": [
    {
     "name": "stdout",
     "output_type": "stream",
     "text": [
      "Caltech:  0.2912826901150874\n",
      "MIT:  0.18028845093502427\n",
      "Johns:  0.19316123901594015\n"
     ]
    }
   ],
   "source": [
    "print(\"Caltech: \",nx.transitivity(GraphCaltech))\n",
    "print(\"MIT: \",nx.transitivity(GraphMIT))\n",
    "print(\"Johns: \",nx.transitivity(GraphJohns))"
   ]
  },
  {
   "cell_type": "markdown",
   "id": "a337f942-faaf-467b-8cfa-2a33184d6456",
   "metadata": {},
   "source": [
    "##### Mean local clustering"
   ]
  },
  {
   "cell_type": "code",
   "execution_count": 6,
   "id": "244c8ce1-fc01-45b6-8f7f-51c5e71d4669",
   "metadata": {},
   "outputs": [
    {
     "name": "stdout",
     "output_type": "stream",
     "text": [
      "Caltech:  0.40929439048517247\n",
      "MIT:  0.2712187419501315\n",
      "Johns:  0.26839307371293525\n"
     ]
    }
   ],
   "source": [
    "print(\"Caltech: \",nx.average_clustering(GraphCaltech))\n",
    "print(\"MIT: \",nx.average_clustering(GraphMIT))\n",
    "print(\"Johns: \",nx.average_clustering(GraphJohns))"
   ]
  },
  {
   "cell_type": "markdown",
   "id": "f5e46188-ab21-4a6f-99a8-aedb9ddaf0e5",
   "metadata": {},
   "source": [
    "##### Edge density"
   ]
  },
  {
   "cell_type": "code",
   "execution_count": 7,
   "id": "b2dbb34a-5c75-418f-b1b3-95f931a98f6d",
   "metadata": {},
   "outputs": [
    {
     "name": "stdout",
     "output_type": "stream",
     "text": [
      "Caltech:  0.05640442132639792\n",
      "MIT:  0.012118119495041378\n",
      "Johns:  0.013910200162372396\n"
     ]
    }
   ],
   "source": [
    "print(\"Caltech: \",nx.density(GraphCaltech))\n",
    "print(\"MIT: \",nx.density(GraphMIT))\n",
    "print(\"Johns: \",nx.density(GraphJohns))"
   ]
  },
  {
   "cell_type": "markdown",
   "id": "35627f9b-6fc5-4f01-a9d4-d6e887c23530",
   "metadata": {},
   "source": [
    "#### c) Scatter plot"
   ]
  },
  {
   "cell_type": "code",
   "execution_count": 8,
   "id": "3ef56369-d706-47b6-81bc-58aff527edaa",
   "metadata": {},
   "outputs": [],
   "source": [
    "def scatter_plot(G):\n",
    "    plt.xlabel(r\"Degree \")\n",
    "    plt.ylabel(r\"Clustering\")\n",
    "    \n",
    "    degree = [val for (node, val) in G.degree]\n",
    "    t = np.arange(len(degree))\n",
    "    clustering = nx.clustering(G)\n",
    "    \n",
    "    plt.scatter(degree, list(clustering.values()), c=t,cmap='plasma');\n",
    "    plt.colorbar()\n",
    "    plt.show()"
   ]
  },
  {
   "cell_type": "code",
   "execution_count": 9,
   "id": "ed610522-fd17-455a-8d53-280870765588",
   "metadata": {},
   "outputs": [
    {
     "data": {
      "image/png": "[encoded data removed]",
      "text/plain": [
       "<Figure size 432x288 with 2 Axes>"
      ]
     },
     "metadata": {
      "needs_background": "light"
     },
     "output_type": "display_data"
    }
   ],
   "source": [
    "scatter_plot(GraphCaltech)"
   ]
  },
  {
   "cell_type": "code",
   "execution_count": 10,
   "id": "f2756512-1094-424d-a645-37292ea317f6",
   "metadata": {},
   "outputs": [
    {
     "data": {
      "image/png": "[encoded data removed]",
      "text/plain": [
       "<Figure size 432x288 with 2 Axes>"
      ]
     },
     "metadata": {
      "needs_background": "light"
     },
     "output_type": "display_data"
    }
   ],
   "source": [
    "scatter_plot(GraphMIT)"
   ]
  },
  {
   "cell_type": "code",
   "execution_count": 11,
   "id": "fcf7796b-c4d0-4762-8a45-a93491ec80f4",
   "metadata": {},
   "outputs": [
    {
     "data": {
      "image/png": "[encoded data removed]",
      "text/plain": [
       "<Figure size 432x288 with 2 Axes>"
      ]
     },
     "metadata": {
      "needs_background": "light"
     },
     "output_type": "display_data"
    }
   ],
   "source": [
    "scatter_plot(GraphJohns)"
   ]
  },
  {
   "cell_type": "markdown",
   "id": "423d6fe1-3787-471a-a6af-bcd569c80ac7",
   "metadata": {},
   "source": [
    "## ■ Question 3"
   ]
  },
  {
   "cell_type": "markdown",
   "id": "4cf450ca-5d52-4473-867d-567ba2682b00",
   "metadata": {},
   "source": [
    "In this question we expect you will perform the computation on all the available\n",
    "graph in the dataset.\n",
    "Of the FB100 networks, investigate the assortativity patterns for three vertex\n",
    "attributes: \n",
    "\n",
    "(i) student/faculty status\n",
    "\n",
    "(ii) major\n",
    "\n",
    "(iii) vertex degree\n",
    "\n",
    "(iiii) dorm. \n",
    "\n",
    "Treat these networks as simple graphs in your analysis."
   ]
  },
  {
   "cell_type": "markdown",
   "id": "9d3d212e-6a28-4d17-a00f-ed7ac367f302",
   "metadata": {},
   "source": [
    "<h4 style=\"color:#ff4447;\">Dorm Assortativity</h4>"
   ]
  },
  {
   "cell_type": "code",
   "execution_count": 12,
   "id": "92c99ecf-d37d-49d6-8906-c7e6fa0d3fca",
   "metadata": {},
   "outputs": [
    {
     "data": {
      "image/png": "[encoded data removed]",
      "text/plain": [
       "<Figure size 432x288 with 1 Axes>"
      ]
     },
     "metadata": {
      "needs_background": "light"
     },
     "output_type": "display_data"
    }
   ],
   "source": [
    "network_size = []\n",
    "dorm_assortativity = []\n",
    "\n",
    "for x in range(0, len(Graphs)):\n",
    "    network_size.append(Graphs[x].size())\n",
    "    dorm_assortativity.append(nx.attribute_assortativity_coefficient(Graphs[x], \"dorm\"))\n",
    "\n",
    "plt.xlabel(r\"Network Size \")\n",
    "plt.ylabel(r\"Dorm Assortativity\")\n",
    "plt.grid(True)\n",
    "plt.title('Distribution of assortativity values')\n",
    "plt.plot(network_size, dorm_assortativity, 'x', color='#ff4447');"
   ]
  },
  {
   "cell_type": "code",
   "execution_count": 13,
   "id": "73df845a-d008-4a6a-b8cb-986a30b88a39",
   "metadata": {},
   "outputs": [
    {
     "data": {
      "text/plain": [
       "(0.0, 0.425258419600651)"
      ]
     },
     "execution_count": 13,
     "metadata": {},
     "output_type": "execute_result"
    },
    {
     "data": {
      "image/png": "[encoded data removed]",
      "text/plain": [
       "<Figure size 432x288 with 1 Axes>"
      ]
     },
     "metadata": {
      "needs_background": "light"
     },
     "output_type": "display_data"
    }
   ],
   "source": [
    "plt.hist(dorm_assortativity, bins='auto', color='#ff4447',alpha=0.9, rwidth=0.5)\n",
    "plt.grid(axis='y', alpha=0.75)\n",
    "plt.xlabel('Dorm Assortativity')\n",
    "plt.xlim(0)"
   ]
  },
  {
   "cell_type": "markdown",
   "id": "f585a983-2250-414e-894f-bed9fdc183eb",
   "metadata": {},
   "source": [
    "<h4 style=\"color:#257985;\">Major Index</h4>"
   ]
  },
  {
   "cell_type": "code",
   "execution_count": 14,
   "id": "1faaaf49-1938-4442-ad7e-59e52a169aee",
   "metadata": {},
   "outputs": [
    {
     "data": {
      "image/png": "[encoded data removed]",
      "text/plain": [
       "<Figure size 432x288 with 1 Axes>"
      ]
     },
     "metadata": {
      "needs_background": "light"
     },
     "output_type": "display_data"
    }
   ],
   "source": [
    "network_size = []\n",
    "major_index_assortativity = []\n",
    "\n",
    "for x in range(0, len(Graphs)):\n",
    "    network_size.append(Graphs[x].size())\n",
    "    major_index_assortativity.append(nx.attribute_assortativity_coefficient(Graphs[x], \"major_index\"))\n",
    "\n",
    "plt.xlabel(r\"Network Size \")\n",
    "plt.ylabel(r\"Student Faculty Assortativity\")\n",
    "plt.grid(True)\n",
    "plt.title('Distribution of assortativity values')\n",
    "plt.plot(network_size, major_index_assortativity, 'x', color='#257985');"
   ]
  },
  {
   "cell_type": "code",
   "execution_count": 15,
   "id": "7d8b61da-e895-4aa2-8d38-b3d07b8a4c93",
   "metadata": {},
   "outputs": [
    {
     "data": {
      "text/plain": [
       "(0.0, 0.13503603282130405)"
      ]
     },
     "execution_count": 15,
     "metadata": {},
     "output_type": "execute_result"
    },
    {
     "data": {
      "image/png": "[encoded data removed]",
      "text/plain": [
       "<Figure size 432x288 with 1 Axes>"
      ]
     },
     "metadata": {
      "needs_background": "light"
     },
     "output_type": "display_data"
    }
   ],
   "source": [
    "plt.hist(major_index_assortativity, bins='auto', color='#257985',alpha=0.9, rwidth=0.5)\n",
    "plt.grid(axis='y', alpha=0.75)\n",
    "plt.xlabel('Student Faculty Assortativity')\n",
    "plt.xlim(0)"
   ]
  },
  {
   "cell_type": "markdown",
   "id": "c58266a5-a521-4c9b-93de-860eb7b3a92f",
   "metadata": {},
   "source": [
    "<h4 style=\"color:#ffbb00;\">Student Faculty</h4>"
   ]
  },
  {
   "cell_type": "code",
   "execution_count": 16,
   "id": "d120633c-fb3c-4dcf-8890-1bc8f5f6ef35",
   "metadata": {},
   "outputs": [
    {
     "data": {
      "image/png": "[encoded data removed]",
      "text/plain": [
       "<Figure size 432x288 with 1 Axes>"
      ]
     },
     "metadata": {
      "needs_background": "light"
     },
     "output_type": "display_data"
    }
   ],
   "source": [
    "network_size = []\n",
    "student_fac_assortativity = []\n",
    "\n",
    "for x in range(0, len(Graphs)):\n",
    "    network_size.append(Graphs[x].size())\n",
    "    student_fac_assortativity.append(nx.attribute_assortativity_coefficient(Graphs[x], \"student_fac\"))\n",
    "\n",
    "plt.xlabel(r\"Network Size \")\n",
    "plt.ylabel(r\"Student Faculty Assortativity\")\n",
    "plt.grid(True)\n",
    "plt.title('Distribution of assortativity values')\n",
    "plt.plot(network_size, student_fac_assortativity, 'x', color='#ffbb00');"
   ]
  },
  {
   "cell_type": "code",
   "execution_count": 17,
   "id": "de3f78f1-3b81-486e-9245-267f4238ec76",
   "metadata": {},
   "outputs": [
    {
     "data": {
      "text/plain": [
       "(0.0, 0.5493816994611223)"
      ]
     },
     "execution_count": 17,
     "metadata": {},
     "output_type": "execute_result"
    },
    {
     "data": {
      "image/png": "[encoded data removed]",
      "text/plain": [
       "<Figure size 432x288 with 1 Axes>"
      ]
     },
     "metadata": {
      "needs_background": "light"
     },
     "output_type": "display_data"
    }
   ],
   "source": [
    "plt.hist(student_fac_assortativity, bins='auto', color='#ffbb00',alpha=0.9, rwidth=0.5)\n",
    "plt.grid(axis='y', alpha=0.75)\n",
    "plt.xlabel('Student Faculty Assortativity')\n",
    "plt.xlim(0)"
   ]
  },
  {
   "cell_type": "markdown",
   "id": "74f043e7-fe24-465d-95f5-92b41c2a0db6",
   "metadata": {},
   "source": [
    "<h4 style=\"color:#aebd38;\">Degree</h4>"
   ]
  },
  {
   "cell_type": "code",
   "execution_count": 18,
   "id": "945dc870-eedb-4a1a-ab26-0530b8020500",
   "metadata": {},
   "outputs": [
    {
     "data": {
      "image/png": "[encoded data removed]",
      "text/plain": [
       "<Figure size 432x288 with 1 Axes>"
      ]
     },
     "metadata": {
      "needs_background": "light"
     },
     "output_type": "display_data"
    }
   ],
   "source": [
    "network_size = []\n",
    "degree_assortativity = []\n",
    "\n",
    "for x in range(0, 20):\n",
    "    network_size.append(Graphs[x].size())\n",
    "    degree_assortativity.append(nx.degree_assortativity_coefficient(Graphs[x]))\n",
    "\n",
    "plt.xlabel(r\"Network Size \")\n",
    "plt.ylabel(r\"Degree Assortativity\")\n",
    "plt.grid(True)\n",
    "plt.title('Distribution of assortativity values')\n",
    "plt.plot(network_size, degree_assortativity, 'x', color='#aebd38');"
   ]
  },
  {
   "cell_type": "code",
   "execution_count": 19,
   "id": "8e49c098-1a8b-40a6-82c1-71d3ab24d102",
   "metadata": {},
   "outputs": [
    {
     "data": {
      "text/plain": [
       "Text(0.5, 0, 'Degree Assortativity')"
      ]
     },
     "execution_count": 19,
     "metadata": {},
     "output_type": "execute_result"
    },
    {
     "data": {
      "image/png": "[encoded data removed]",
      "text/plain": [
       "<Figure size 432x288 with 1 Axes>"
      ]
     },
     "metadata": {
      "needs_background": "light"
     },
     "output_type": "display_data"
    }
   ],
   "source": [
    "plt.hist(degree_assortativity, bins='auto', color='#aebd38',alpha=0.9, rwidth=0.5)\n",
    "plt.grid(axis='y', alpha=0.75)\n",
    "plt.xlabel('Degree Assortativity')"
   ]
  },
  {
   "cell_type": "markdown",
   "id": "ddbcae69-e990-4fb3-908d-6a2df1384dc5",
   "metadata": {},
   "source": [
    "## ■ Question 4"
   ]
  },
  {
   "cell_type": "markdown",
   "id": "343891db-bd21-46f7-8361-5a6cfe985add",
   "metadata": {},
   "source": [
    "In this question we expect you will compute the link prediction algorithms on a large\n",
    "set of graphs (> 10)."
   ]
  },
  {
   "cell_type": "markdown",
   "id": "576f2cc0-0f3d-41a0-90c9-45d7fc9e864e",
   "metadata": {},
   "source": [
    "##### (b) Implement the following link prediction metrics:"
   ]
  },
  {
   "cell_type": "code",
   "execution_count": 26,
   "id": "e6693c79-53cd-4adb-89e1-5eabe7ff9278",
   "metadata": {},
   "outputs": [],
   "source": [
    "def link_predictor(method,f,G,random_n):\n",
    "    \n",
    "    def unique(G):\n",
    "        common_neighbors_list = []\n",
    "        counter1 = 0\n",
    "        counter2 = 0 \n",
    "        for j in range(len(G.nodes)-1):\n",
    "            for k in range(len(G.nodes)-1):\n",
    "                pair = str(counter1),str(counter2)\n",
    "                common_neighbors_list.append(pair)\n",
    "                counter2 = counter2 + 1\n",
    "            counter2 = 0\n",
    "            counter1 = counter1 + 1\n",
    "        return list(set(tuple(sorted(x)) for x in common_neighbors_list))\n",
    "\n",
    "    def common_neighbors_centrality(G):\n",
    "        unique_list = unique(G)\n",
    "        common_neighbors_list = []\n",
    "        length = len(unique_list)\n",
    "        counter1 = 0\n",
    "        for _ in range(length-1):\n",
    "            pair = unique_list[counter1]\n",
    "            cn = sorted(nx.common_neighbors(G, pair[0], pair[1]))\n",
    "            pair_with_value = pair[0],pair[1],len(cn)\n",
    "            common_neighbors_list.append(pair_with_value) \n",
    "            counter1 = counter1 + 1\n",
    "        return common_neighbors_list\n",
    "    \n",
    "    # Taking a random sample of edges with f [0.05, 0.1, 0.15, 0.2]\n",
    "    edge_subset = random.sample(G.edges(), int(f * G.number_of_edges()))\n",
    "    # Removing some edges\n",
    "    G = G.copy()\n",
    "    G.remove_edges_from(edge_subset)\n",
    "    \n",
    "    # Just a simple selector\n",
    "    if method == 'jaccard':\n",
    "        prediction_method = list(nx.jaccard_coefficient(G))\n",
    "    elif method == 'adamic':\n",
    "        prediction_method = list(nx.adamic_adar_index(G))\n",
    "    elif method == 'common_neighbors':\n",
    "        prediction_method = common_neighbors_centrality(G)\n",
    "    else:\n",
    "        print(\"Didn't specify a correct prediction method.\")\n",
    "    \n",
    "    # Processing the list of tuples, first sorting, then deleting the method coefficient and then\n",
    "    # converting a numpy.array to a list of tuples, in order to get the intersection later.\n",
    "    prediction_method_sorted = sorted(prediction_method,key=lambda l:l[2], reverse=True)\n",
    "    prediction_method_processed = np.delete(prediction_method_sorted, 2, axis=1)\n",
    "    prediction_method_processed = list(map(tuple, prediction_method_processed))\n",
    "    \n",
    "    # Resizing to the random number generated\n",
    "    prediction_method_processed = prediction_method_processed[0:random_n]\n",
    "    \n",
    "    # Gettin the intersection list between de predicted list and the subset of edges extracted.\n",
    "    intersection_list = [value for value in prediction_method_processed if value in edge_subset]\n",
    "    \n",
    "    #result_string = \n",
    "    return \"╚ \"+str(method)+\" method: \"+str(len(intersection_list))+\" of \"+str(len(edge_subset))"
   ]
  },
  {
   "cell_type": "markdown",
   "id": "b0fbaa06-4e32-4b1e-9021-4a0a39ba7b36",
   "metadata": {},
   "source": [
    "##### c) Evaluating a link predictor:"
   ]
  },
  {
   "cell_type": "code",
   "execution_count": 165,
   "id": "4207f1d2-fee2-44fe-a2c6-d9d738abe6b6",
   "metadata": {},
   "outputs": [],
   "source": [
    "# Using Caltech36 for evaluation, because is the smaller graph in the dataset.\n",
    "Graph_evaluation_lp = Graphs[13]"
   ]
  },
  {
   "cell_type": "code",
   "execution_count": 177,
   "id": "56445b81-c2a4-477e-baec-97bc08a44cb9",
   "metadata": {},
   "outputs": [
    {
     "data": {
      "text/plain": [
       "15224"
      ]
     },
     "execution_count": 177,
     "metadata": {},
     "output_type": "execute_result"
    }
   ],
   "source": [
    "random_n = randint(1,Graph_evaluation_lp.number_of_edges())\n",
    "random_n"
   ]
  },
  {
   "cell_type": "code",
   "execution_count": 178,
   "id": "a38c7e4c-2c3e-4e69-b422-1813edba4795",
   "metadata": {},
   "outputs": [
    {
     "name": "stdout",
     "output_type": "stream",
     "text": [
      "╚ common_neighbors method: 383 of 832\n",
      "╚ jaccard method: 299 of 832\n",
      "╚ adamic method: 295 of 832\n"
     ]
    }
   ],
   "source": [
    "print(link_predictor('common_neighbors',0.05,Graph_evaluation_lp,random_n))\n",
    "print(link_predictor('jaccard',0.05,Graph_evaluation_lp,random_n))\n",
    "print(link_predictor('adamic',0.05,Graph_evaluation_lp,random_n))"
   ]
  },
  {
   "cell_type": "markdown",
   "id": "f6b445d2-3918-4c00-9b5e-9279a38ef071",
   "metadata": {},
   "source": [
    "##### (d) Choose a couple of graphs in the facebook100 dataset run and evaluate each link predictor on them, and conclude on the eficiency of the following metrics: "
   ]
  },
  {
   "cell_type": "code",
   "execution_count": 186,
   "id": "b5ec9af9-ad92-493a-b6d1-806d35264ba0",
   "metadata": {},
   "outputs": [
    {
     "name": "stdout",
     "output_type": "stream",
     "text": [
      "Size of the intersections \n",
      "\n",
      "Caltech36 with random_n: 54585\n",
      "╚ common_neighbors method: 642 of 832\n",
      "╚ jaccard method: 400 of 832\n",
      "╚ adamic method: 365 of 832\n",
      "\n",
      "Haverford76 with random_n: 54585\n",
      "╚ common_neighbors method: 761 of 2979\n",
      "╚ jaccard method: 1023 of 2979\n",
      "╚ adamic method: 942 of 2979\n",
      "\n",
      "Swarthmore42 with random_n: 54585\n",
      "╚ common_neighbors method: 665 of 3052\n",
      "╚ jaccard method: 964 of 3052\n",
      "╚ adamic method: 923 of 3052\n",
      "\n"
     ]
    }
   ],
   "source": [
    "print('Size of the intersections \\n')\n",
    "\n",
    "selected_graphs_names = ['Caltech36','Haverford76','Swarthmore42',]\n",
    "selected_graphs = []\n",
    "selected_graphs.append(Graphs[13])\n",
    "selected_graphs.append(Graphs[26])\n",
    "selected_graphs.append(Graphs[58])\n",
    "\n",
    "i=0\n",
    "random_n = randint(1,Graphs[58].number_of_edges())\n",
    "\n",
    "for graph in selected_graphs:\n",
    "    print(selected_graphs_names[i]+\" with random_n: \"+str(random_n))\n",
    "    print(link_predictor('common_neighbors',0.05,graph,random_n))\n",
    "    print(link_predictor('jaccard',0.05,graph,random_n))\n",
    "    print(link_predictor('adamic',0.05,graph,random_n)+'\\n')\n",
    "    i=i+1"
   ]
  },
  {
   "cell_type": "markdown",
   "id": "bbadcb9f-adfa-4d13-82d7-c5508128b8d4",
   "metadata": {},
   "source": [
    "## ■ Question 5"
   ]
  },
  {
   "cell_type": "markdown",
   "id": "d688300e-9ecd-479d-97b4-bc7f19b979f5",
   "metadata": {},
   "source": [
    "(b) Implement in python the label propagation algorithm, please consider pytorch3 and networkx4 for the development of your algorithm.\n",
    "\n",
    "(c) Choose a network from The Facebook100 dataset and randomly select 10%, 20%, and 30% of of the node attributes of the network to be removed. Use the label propagation algorithm you implemented to recover the missing attributes. Perform this operation for each of the following attributes : \"dorm\", \"major\",\n",
    "\"gender\".\n",
    "\n",
    "(d) For each case of the following percentage of missing attributes: 10%, 20% and 30% and for each of the following attributes: the \"dorm\", \"major\", \"gender\" show the mean absolute error and accuracy score (as defined in eq. 1) of the label propagation algorithm as in the example provided in Table 1 for the Duke University Facebook network. Note we can use the formula eq. 1 for computing the accuracy. However, a better approach would have been to compute the F1-score."
   ]
  },
  {
   "cell_type": "code",
   "execution_count": 281,
   "id": "185c6998-02a9-4119-b8de-70b91bcd0fde",
   "metadata": {},
   "outputs": [],
   "source": [
    "def normalize(G): # This function returns a normalized array given a graph.\n",
    "    A = nx.to_numpy_array(G)\n",
    "    D = np.sum(A, axis=1)\n",
    "    Dinv = np.diag(1/D)\n",
    "    return Dinv @ A"
   ]
  },
  {
   "cell_type": "markdown",
   "id": "ba36ff97-406e-46b7-926b-6e069d5678f9",
   "metadata": {},
   "source": [
    "The following functions are the result of the implementation of the label propagation algorithm."
   ]
  },
  {
   "cell_type": "code",
   "execution_count": 282,
   "id": "d220fb64-2315-44ed-9347-9ceec715c504",
   "metadata": {},
   "outputs": [],
   "source": [
    "def label_propagation(G, lbp, labels_id, tol=1e-3, max_iter=1000):\n",
    "    norm = normalize(G)\n",
    "    copy_ylabel = lbp.copy()\n",
    "    previous = np.zeros(lbp.shape)\n",
    "\n",
    "    for _ in range(max_iter):\n",
    "        var = np.abs(np.sum(previous - lbp))\n",
    "        \n",
    "        if var < tol:\n",
    "            break\n",
    "        previous = lbp.copy()\n",
    "        lbp = np.dot(norm, previous)\n",
    "        lbp[labels_id] = copy_ylabel[labels_id]\n",
    "        \n",
    "    return lbp"
   ]
  },
  {
   "cell_type": "code",
   "execution_count": 283,
   "id": "4eee7484-c31e-4a66-be26-3983d7ad69bc",
   "metadata": {},
   "outputs": [],
   "source": [
    "def complete_propagation(G, label, percentage):\n",
    "    N = len(G)\n",
    "\n",
    "    ndvalues = nx.get_node_attributes(G, label)\n",
    "    ulist = list(set( valor for i in ndvalues for valor in ndvalues.values()))\n",
    "    nunique = len(list(ulist))\n",
    "\n",
    "    per = math.ceil(N*percentage)\n",
    "    lp = np.zeros((N, nunique))\n",
    "    lpbk = np.zeros((N, nunique))\n",
    "\n",
    "    aprox_vals = []\n",
    "    index = per * math.floor(random() * 1/percentage)\n",
    "    cpindex = index\n",
    "    total = index + per\n",
    "    cnt = 0\n",
    "\n",
    "    for i in ndvalues:\n",
    "        for j in range(nunique):\n",
    "            if ndvalues[i] == ulist[j] and ndvalues[i] != 0 and index < total and index <= cnt:\n",
    "                lp[int(i), j] = 0\n",
    "                lpbk[int(i), j] = 1\n",
    "                aprox_vals.append(cnt)\n",
    "                index = index + 1\n",
    "            elif ndvalues[i] == ulist[j] and ndvalues[i] != 0:\n",
    "                lp[int(i), j] = 1\n",
    "                lpbk[int(i), j] = 1\n",
    "        cnt = cnt + 1\n",
    "\n",
    "    lid = (lp.sum(axis=1) == 1)\n",
    "    lpf = label_propagation(G, lp, lid)\n",
    "\n",
    "    return lpf, lpbk, cpindex, per"
   ]
  },
  {
   "cell_type": "markdown",
   "id": "3169f0a0-f748-4a12-bda8-d7ae4c440e43",
   "metadata": {},
   "source": [
    "(c) Choose a network from The Facebook100 dataset and randomly select 10%, 20%, and 30% of of the node attributes of the network to be removed. Use the label propagation algorithm you implemented to recover the missing attributes. Perform this operation for each of the following attributes : ”dorm”, ”major” and ”gender”."
   ]
  },
  {
   "cell_type": "code",
   "execution_count": 300,
   "id": "ea03b100-bfe4-4bae-81c9-145c7bca866c",
   "metadata": {},
   "outputs": [],
   "source": [
    "Duke = Graphs[19]"
   ]
  },
  {
   "cell_type": "markdown",
   "id": "2ae13693-fd4c-452f-8d58-23a54c5e3d35",
   "metadata": {},
   "source": [
    "10%"
   ]
  },
  {
   "cell_type": "code",
   "execution_count": 303,
   "id": "1144c435-ad5b-4bd1-a0c9-ab88d8b579c8",
   "metadata": {},
   "outputs": [],
   "source": [
    "Dorm_10_lp, Dorm_10_lpbk, Dorm_10_index, Dorm_10_percentage = complete_propagation(Duke, 'dorm', 0.1)"
   ]
  },
  {
   "cell_type": "code",
   "execution_count": 305,
   "id": "4c66882a-c6f0-4b36-85c3-f23857b10f05",
   "metadata": {},
   "outputs": [],
   "source": [
    "Major_10_lp, Major_10_lpbk, Major_10_index, Major_10_percentage = complete_propagation(Duke, 'major_index', 0.1)"
   ]
  },
  {
   "cell_type": "code",
   "execution_count": 307,
   "id": "050e3019-50b9-41a2-8f23-cb3d412b7157",
   "metadata": {},
   "outputs": [],
   "source": [
    "Gender_10_lp, Gender_10_lpbk, Gender_10_index, Gender_10_percentage = complete_propagation(Duke, 'gender', 0.1)"
   ]
  },
  {
   "cell_type": "markdown",
   "id": "5b3b6ad9-ab18-405a-b84b-a862acd696a1",
   "metadata": {},
   "source": [
    "20%"
   ]
  },
  {
   "cell_type": "code",
   "execution_count": 309,
   "id": "9543fbd3-f6ea-4b8c-9b51-41c8acc81479",
   "metadata": {},
   "outputs": [],
   "source": [
    "Dorm_20_lp, Dorm_20_lpbk, Dorm_20_index, Dorm_20_percentage = complete_propagation(Duke, 'dorm', 0.2)"
   ]
  },
  {
   "cell_type": "code",
   "execution_count": 311,
   "id": "19970e6d-8ea2-4f15-a128-26c6f9777607",
   "metadata": {},
   "outputs": [],
   "source": [
    "Major_20_lp, Major_20_lpbk, Major_20_index, Major_20_percentage = complete_propagation(Duke, 'major_index', 0.2)"
   ]
  },
  {
   "cell_type": "code",
   "execution_count": 313,
   "id": "679ea763-2bf3-43e9-89fa-106e521bc9bd",
   "metadata": {},
   "outputs": [],
   "source": [
    "Gender_20_lp, Gender_20_lpbk, Gender_20_index, Gender_20_percentage = complete_propagation(Duke, 'gender', 0.2)"
   ]
  },
  {
   "cell_type": "markdown",
   "id": "7a8d73ac-89cf-444f-9f05-1692dd4aec2a",
   "metadata": {},
   "source": [
    "30%"
   ]
  },
  {
   "cell_type": "code",
   "execution_count": 315,
   "id": "d6b01310-d2f8-4e6e-8ecf-d0adba26241a",
   "metadata": {},
   "outputs": [],
   "source": [
    "Dorm_30_lp, Dorm_30_lpbk, Dorm_30_index, Dorm_30_percentage = complete_propagation(Duke, 'dorm', 0.3)"
   ]
  },
  {
   "cell_type": "code",
   "execution_count": 317,
   "id": "c6700d6b-a965-4b6a-99ac-36f5111cddbe",
   "metadata": {},
   "outputs": [],
   "source": [
    "Major_30_lp, Major_30_lpbk, Major_30_index, Major_30_percentage = complete_propagation(Duke, 'major_index', 0.3)"
   ]
  },
  {
   "cell_type": "code",
   "execution_count": 319,
   "id": "32efd270-9eba-4ffb-b127-1ab087ba088d",
   "metadata": {},
   "outputs": [],
   "source": [
    "Gender_30_lp, Gender_30_lpbk, Gender_30_index, Gender_30_percentage = complete_propagation(Duke, 'gender', 0.3)"
   ]
  },
  {
   "cell_type": "markdown",
   "id": "33daa208-3b1f-4b07-b193-a0ba0689831c",
   "metadata": {},
   "source": [
    "(d) For each case of the following percentage of missing attributes: 10%, 20% and 30% and for each of the following attributes: the ”dorm”, ”major”, ”gender” show the mean absolute error and accuracy score of the label propagation algorithm as in the example provided in Table 1 for the Duke University Facebook network."
   ]
  },
  {
   "cell_type": "markdown",
   "id": "04379226-496f-4315-bdfe-759622a1fa3e",
   "metadata": {},
   "source": [
    "The following function get the acurracy, receives as parameter the predicted matrix, the copy of the label, the initial value and the percentage."
   ]
  },
  {
   "cell_type": "code",
   "execution_count": 301,
   "id": "2f47a122-6c0c-4e04-bd93-507abb9a6312",
   "metadata": {},
   "outputs": [],
   "source": [
    "def get_accuracy(label_predict, label_backup, index, per):\n",
    "    labels_id = (label_backup.sum(axis=1) == 1)\n",
    "    prom = 0\n",
    "    count = index\n",
    "    tot = 0\n",
    "\n",
    "    while (count < (per + index)):\n",
    "        if (labels_id[count]):\n",
    "            tot = tot + 1\n",
    "            acc = 0\n",
    "            greater_val = 0\n",
    "            for value in label_backup[count]:\n",
    "                if value != 0:\n",
    "                    break;\n",
    "                acc = acc + 1\n",
    "            for value in label_predict[count]:\n",
    "                if value > greater_val:\n",
    "                    greater_val = value\n",
    "            if (label_predict[count][acc] >= (1 /(len(label_predict[count]) -1)) and label_predict[count][acc] >= greater_val):\n",
    "                prom = prom + 1\n",
    "        count = count + 1\n",
    "    return prom/tot"
   ]
  },
  {
   "cell_type": "markdown",
   "id": "f5ea5252-24d6-426b-9c7a-bc1f3d5d73bc",
   "metadata": {},
   "source": [
    "10%"
   ]
  },
  {
   "cell_type": "code",
   "execution_count": 304,
   "id": "a8885ee9-8129-47dc-bf56-fcab174473ec",
   "metadata": {},
   "outputs": [
    {
     "name": "stdout",
     "output_type": "stream",
     "text": [
      "Accuracy :  0.5465924895688457\n",
      "Mean Absolute Error: \n"
     ]
    },
    {
     "data": {
      "text/plain": [
       "0.0016744926327238742"
      ]
     },
     "execution_count": 304,
     "metadata": {},
     "output_type": "execute_result"
    }
   ],
   "source": [
    "Dorm_10_accuracy = get_accuracy(Dorm_10_lp, Dorm_10_lpbk, Dorm_10_index, Dorm_10_percentage)\n",
    "print(\"Accuracy : \", Dorm_10_accuracy)\n",
    "\n",
    "# Mean Absolute Error\n",
    "labels_id = (Dorm_10_lpbk.sum(axis=1) == 1)\n",
    "print('Mean Absolute Error: ')\n",
    "mean_absolute_error(Dorm_10_lpbk[labels_id], Dorm_10_lp[labels_id])"
   ]
  },
  {
   "cell_type": "code",
   "execution_count": 306,
   "id": "6f49cb6e-22b9-443d-9cf4-e8a6a70716ec",
   "metadata": {},
   "outputs": [
    {
     "name": "stdout",
     "output_type": "stream",
     "text": [
      "Accuracy :  0.2892670157068063\n",
      "Mean Absolute Error: \n"
     ]
    },
    {
     "data": {
      "text/plain": [
       "0.0032475838896609925"
      ]
     },
     "execution_count": 306,
     "metadata": {},
     "output_type": "execute_result"
    }
   ],
   "source": [
    "Major_10_accuracy = get_accuracy(Major_10_lp, Major_10_lpbk, Major_10_index, Major_10_percentage)\n",
    "print(\"Accuracy : \", Major_10_accuracy)\n",
    "\n",
    "# Mean Absolute Error\n",
    "labels_id = (Major_10_lpbk.sum(axis=1) == 1)\n",
    "print('Mean Absolute Error: ')\n",
    "mean_absolute_error(Major_10_lpbk[labels_id], Major_10_lp[labels_id])"
   ]
  },
  {
   "cell_type": "code",
   "execution_count": 308,
   "id": "910a99ff-ee56-4691-adfe-92dc91f7566f",
   "metadata": {},
   "outputs": [
    {
     "name": "stdout",
     "output_type": "stream",
     "text": [
      "Accuracy :  0.687089715536105\n",
      "Mean Absolute Error: \n"
     ]
    },
    {
     "data": {
      "text/plain": [
       "0.03236911856034235"
      ]
     },
     "execution_count": 308,
     "metadata": {},
     "output_type": "execute_result"
    }
   ],
   "source": [
    "Gender_10_accuracy = get_accuracy(Gender_10_lp, Gender_10_lpbk, Gender_10_index, Gender_10_percentage)\n",
    "print(\"Accuracy : \", Gender_10_accuracy)\n",
    "\n",
    "# Mean Absolute Error\n",
    "labels_id = (Gender_10_lpbk.sum(axis=1) == 1)\n",
    "print('Mean Absolute Error: ')\n",
    "mean_absolute_error(Gender_10_lpbk[labels_id], Gender_10_lp[labels_id])"
   ]
  },
  {
   "cell_type": "markdown",
   "id": "3ce692b7-aede-47bb-9bf7-bd0d046c4ecd",
   "metadata": {},
   "source": [
    "20%"
   ]
  },
  {
   "cell_type": "code",
   "execution_count": 310,
   "id": "f99d2e26-1760-4324-acbc-5ae20e46863b",
   "metadata": {},
   "outputs": [
    {
     "name": "stdout",
     "output_type": "stream",
     "text": [
      "Accuracy :  0.5224403927068724\n",
      "Mean Absolute Error: \n"
     ]
    },
    {
     "data": {
      "text/plain": [
       "0.0034203493870545365"
      ]
     },
     "execution_count": 310,
     "metadata": {},
     "output_type": "execute_result"
    }
   ],
   "source": [
    "Dorm_20_accuracy = get_accuracy(Dorm_20_lp, Dorm_20_lpbk, Dorm_20_index, Dorm_20_percentage)\n",
    "print(\"Accuracy : \", Dorm_20_accuracy)\n",
    "\n",
    "# Mean Absolute Error\n",
    "labels_id = (Dorm_20_lpbk.sum(axis=1) == 1)\n",
    "print('Mean Absolute Error: ')\n",
    "mean_absolute_error(Dorm_20_lpbk[labels_id], Dorm_20_lp[labels_id])"
   ]
  },
  {
   "cell_type": "code",
   "execution_count": 312,
   "id": "6e74d2da-1889-4262-8cfe-73ee6da8e4e6",
   "metadata": {},
   "outputs": [
    {
     "name": "stdout",
     "output_type": "stream",
     "text": [
      "Accuracy :  0.26691967109424414\n",
      "Mean Absolute Error: \n"
     ]
    },
    {
     "data": {
      "text/plain": [
       "0.005254368924043143"
      ]
     },
     "execution_count": 312,
     "metadata": {},
     "output_type": "execute_result"
    }
   ],
   "source": [
    "Major_20_accuracy = get_accuracy(Major_20_lp, Major_20_lpbk, Major_20_index, Major_20_percentage)\n",
    "print(\"Accuracy : \", Major_20_accuracy)\n",
    "\n",
    "# Mean Absolute Error\n",
    "labels_id = (Major_20_lpbk.sum(axis=1) == 1)\n",
    "print('Mean Absolute Error: ')\n",
    "mean_absolute_error(Major_20_lpbk[labels_id], Major_20_lp[labels_id])"
   ]
  },
  {
   "cell_type": "code",
   "execution_count": 314,
   "id": "eb439eb2-f619-4b3b-bdac-aac7eca5104e",
   "metadata": {},
   "outputs": [
    {
     "name": "stdout",
     "output_type": "stream",
     "text": [
      "Accuracy :  0.6839176405119644\n",
      "Mean Absolute Error: \n"
     ]
    },
    {
     "data": {
      "text/plain": [
       "0.05888840016716107"
      ]
     },
     "execution_count": 314,
     "metadata": {},
     "output_type": "execute_result"
    }
   ],
   "source": [
    "Gender_20_accuracy = get_accuracy(Gender_20_lp, Gender_20_lpbk, Gender_20_index, Gender_20_percentage)\n",
    "print(\"Accuracy : \", Gender_20_accuracy)\n",
    "\n",
    "# Mean Absolute Error\n",
    "labels_id = (Gender_20_lpbk.sum(axis=1) == 1)\n",
    "print('Mean Absolute Error: ')\n",
    "mean_absolute_error(Gender_20_lpbk[labels_id], Gender_20_lp[labels_id])"
   ]
  },
  {
   "cell_type": "markdown",
   "id": "b9ff0d97-3d6f-4aa5-bbd5-c8730b8d300a",
   "metadata": {},
   "source": [
    "30%"
   ]
  },
  {
   "cell_type": "code",
   "execution_count": 316,
   "id": "e2642529-40de-402a-8100-d4509d645d28",
   "metadata": {},
   "outputs": [
    {
     "name": "stdout",
     "output_type": "stream",
     "text": [
      "Accuracy :  0.4787792083929423\n",
      "Mean Absolute Error: \n"
     ]
    },
    {
     "data": {
      "text/plain": [
       "0.004952369920742225"
      ]
     },
     "execution_count": 316,
     "metadata": {},
     "output_type": "execute_result"
    }
   ],
   "source": [
    "Dorm_30_accuracy = get_accuracy(Dorm_30_lp, Dorm_30_lpbk, Dorm_30_index, Dorm_30_percentage)\n",
    "print(\"Accuracy : \", Dorm_30_accuracy)\n",
    "\n",
    "# Mean Absolute Error\n",
    "labels_id = (Dorm_30_lpbk.sum(axis=1) == 1)\n",
    "print('Mean Absolute Error: ')\n",
    "mean_absolute_error(Dorm_30_lpbk[labels_id], Dorm_30_lp[labels_id])"
   ]
  },
  {
   "cell_type": "code",
   "execution_count": 318,
   "id": "4617fe0d-1f00-4b35-ac2b-d783a91862a6",
   "metadata": {},
   "outputs": [
    {
     "name": "stdout",
     "output_type": "stream",
     "text": [
      "Accuracy :  0.24895920066611157\n",
      "Mean Absolute Error: \n"
     ]
    },
    {
     "data": {
      "text/plain": [
       "0.009959803998076869"
      ]
     },
     "execution_count": 318,
     "metadata": {},
     "output_type": "execute_result"
    }
   ],
   "source": [
    "Major_30_accuracy = get_accuracy(Major_30_lp, Major_30_lpbk, Major_30_index, Major_30_percentage)\n",
    "print(\"Accuracy : \", Major_30_accuracy)\n",
    "\n",
    "# Mean Absolute Error\n",
    "labels_id = (Major_30_lpbk.sum(axis=1) == 1)\n",
    "print('Mean Absolute Error: ')\n",
    "mean_absolute_error(Major_30_lpbk[labels_id], Major_30_lp[labels_id])"
   ]
  },
  {
   "cell_type": "code",
   "execution_count": 320,
   "id": "3ba7d78f-50f4-40e9-bcc5-7cf52b03b15f",
   "metadata": {},
   "outputs": [
    {
     "name": "stdout",
     "output_type": "stream",
     "text": [
      "Accuracy :  0.6765249537892791\n",
      "Mean Absolute Error: \n"
     ]
    },
    {
     "data": {
      "text/plain": [
       "0.09928809257770084"
      ]
     },
     "execution_count": 320,
     "metadata": {},
     "output_type": "execute_result"
    }
   ],
   "source": [
    "Gender_30_accuracy = get_accuracy(Gender_30_lp, Gender_30_lpbk, Gender_30_index, Gender_30_percentage)\n",
    "print(\"Accuracy : \", Gender_30_accuracy)\n",
    "\n",
    "# Mean Absolute Error\n",
    "labels_id = (Gender_30_lpbk.sum(axis=1) == 1)\n",
    "print('Mean Absolute Error: ')\n",
    "mean_absolute_error(Gender_30_lpbk[labels_id], Gender_30_lp[labels_id])"
   ]
  },
  {
   "cell_type": "markdown",
   "id": "ebbb30b2-c25e-43eb-b9f8-cc719faecc93",
   "metadata": {},
   "source": [
    "(e) Conclude on the accuracy of the label propagation algorithm for different labels, could you explain why is there such difference in the accuracy between each type of label ?"
   ]
  },
  {
   "cell_type": "code",
   "execution_count": 321,
   "id": "4fa78630-7774-4d14-95cc-1f9446bfbd55",
   "metadata": {},
   "outputs": [
    {
     "name": "stdout",
     "output_type": "stream",
     "text": [
      "Fraction Removed\n",
      "\n",
      "10% of Fraction Removed\n",
      "Major:  0.2892670157068063\n",
      "Dorm:  0.5465924895688457\n",
      "Gender:  0.687089715536105 \n",
      "\n",
      "20% of Fraction Removed\n",
      "Major:  0.26691967109424414\n",
      "Dorm:  0.5224403927068724\n",
      "Gender:  0.6839176405119644 \n",
      "\n",
      "30% of Fraction Removed\n",
      "Major:  0.24895920066611157\n",
      "Dorm:  0.4787792083929423\n",
      "Gender:  0.6765249537892791 \n",
      "\n"
     ]
    }
   ],
   "source": [
    "print(\"Fraction Removed\\n\")\n",
    "print(\"10% of Fraction Removed\")\n",
    "print(\"Major: \", Major_10_accuracy)\n",
    "print(\"Dorm: \", Dorm_10_accuracy)\n",
    "print(\"Gender: \", Gender_10_accuracy,\"\\n\")\n",
    "print(\"20% of Fraction Removed\")\n",
    "print(\"Major: \", Major_20_accuracy)\n",
    "print(\"Dorm: \", Dorm_20_accuracy)\n",
    "print(\"Gender: \", Gender_20_accuracy,\"\\n\")\n",
    "print(\"30% of Fraction Removed\")\n",
    "print(\"Major: \", Major_30_accuracy)\n",
    "print(\"Dorm: \", Dorm_30_accuracy)\n",
    "print(\"Gender: \", Gender_30_accuracy,\"\\n\")"
   ]
  }
 ],
 "metadata": {
  "kernelspec": {
   "display_name": "Python 3",
   "language": "python",
   "name": "python3"
  },
  "language_info": {
   "codemirror_mode": {
    "name": "ipython",
    "version": 3
   },
   "file_extension": ".py",
   "mimetype": "text/x-python",
   "name": "python",
   "nbconvert_exporter": "python",
   "pygments_lexer": "ipython3",
   "version": "3.8.8"
  }
 },
 "nbformat": 4,
 "nbformat_minor": 5
}
